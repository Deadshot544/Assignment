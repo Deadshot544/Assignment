{
 "cells": [
  {
   "cell_type": "markdown",
   "id": "ab0630c5-0f2c-4422-9631-0563a3ac9623",
   "metadata": {},
   "source": [
    "\n",
    "## Peer-graded_Assignment_Submitting_My_Work"
   ]
  },
  {
   "cell_type": "markdown",
   "id": "aec3fe7e-e29e-4562-a6e9-88da3b6b218f",
   "metadata": {},
   "source": [
    "# Data Science Tools and Ecosystem"
   ]
  },
  {
   "cell_type": "markdown",
   "id": "d8a8c0c9-0c30-4251-81d3-80ef3757bc88",
   "metadata": {},
   "source": [
    "In this notebook, Data Science Tools and Ecosystem are summarized.\n",
    "\n",
    "\n",
    "Objectives:\n",
    "\n",
    "* List popular languages that Data Scientists use.\n",
    "* List commonly used libraries used by Data Scientists.\n",
    "* Comment on Data Science tools."
   ]
  },
  {
   "cell_type": "markdown",
   "id": "eeae8cf4-2710-4a00-8682-802f9d8c5ec6",
   "metadata": {},
   "source": [
    "Some of the popular languages that Data Scientists use are:\n",
    "\n",
    "<ol>\n",
    "<li>Python.</li>\n",
    "<li>R.</li>\n",
    "<li>SQL.</li>\n",
    "<li>Java.</li>\n",
    "<li>Julia.</li>\n",
    "<li>Scala.</li>\n",
    "<li>C/C++.</li>\n",
    "<li>JavaScript.</li>\n",
    "</ol>"
   ]
  },
  {
   "cell_type": "markdown",
   "id": "4c1cd8e9-d16e-430c-8fae-0648db89dcd5",
   "metadata": {},
   "source": [
    "Some of the commonly used libraries used by Data Scientists include:\n",
    "\n",
    "<ol>\n",
    "    <li>TensorFlow</li>\n",
    "    <li>NumPy</li>\n",
    "    <li>SciPy</li>\n",
    "    <li>Pandas</li>\n",
    "    <li>Matplotlib</li>\n",
    "    <li>Keras</li>\n",
    "    <li>SciKit-Learn</li>\n",
    "    <li>PyTorch</li>\n",
    "    <li>Scrapy</li>\n",
    "    <li>BeautifulSoup</li>\n",
    "</ol>\n"
   ]
  },
  {
   "cell_type": "markdown",
   "id": "df1f838a-9b7a-45d1-b810-5e9204a27b6d",
   "metadata": {},
   "source": [
    "Data Science Tools:\n",
    "\n",
    "<table border=\"1\">\n",
    "    <tr>\n",
    "        <th>Data Science Tools</th>\n",
    "        <th>Description</th>\n",
    "    </tr>\n",
    "    <tr>\n",
    "        <td>SAS</td>\n",
    "        <td>It is one of those data science tools which are specifically designed for statistical operations.</td>\n",
    "    </tr>\n",
    "    <tr>\n",
    "        <td>Apache Spark</td>\n",
    "        <td>Distributed computing system used for big data processing and analytics.</td>\n",
    "    </tr>\n",
    "    <tr>\n",
    "        <td>BigML</td>\n",
    "        <td>Machine learning platform for creating predictive models.</td>\n",
    "    </tr>\n",
    "</table>\n"
   ]
  },
  {
   "cell_type": "code",
   "execution_count": 1,
   "id": "c18bddcf-bb37-41f5-909e-c666c46e5162",
   "metadata": {},
   "outputs": [
    {
     "name": "stdout",
     "output_type": "stream",
     "text": [
      "9\n"
     ]
    }
   ],
   "source": [
    "x=5+4\n",
    "print(x)"
   ]
  },
  {
   "cell_type": "code",
   "execution_count": 2,
   "id": "7420cd8c-6b74-477a-9558-0389e1e2a66e",
   "metadata": {},
   "outputs": [
    {
     "name": "stdout",
     "output_type": "stream",
     "text": [
      "24\n"
     ]
    }
   ],
   "source": [
    "x=(5+7)*2\n",
    "print(x)"
   ]
  },
  {
   "cell_type": "code",
   "execution_count": 3,
   "id": "655b0524-6462-4e21-96c5-04bced433bf8",
   "metadata": {},
   "outputs": [
    {
     "data": {
      "text/plain": [
       "2.0"
      ]
     },
     "execution_count": 3,
     "metadata": {},
     "output_type": "execute_result"
    }
   ],
   "source": [
    "(3*4)/6"
   ]
  },
  {
   "cell_type": "code",
   "execution_count": 4,
   "id": "56678e4d-d279-4682-b82f-b7a9cc7e0322",
   "metadata": {},
   "outputs": [
    {
     "name": "stdout",
     "output_type": "stream",
     "text": [
      "0 days, 3.3333333333333335 hours, 0 mins. \n"
     ]
    }
   ],
   "source": [
    "days = 0\n",
    "hours = 0\n",
    "mins = 0\n",
    "\n",
    "time = 200\n",
    "\n",
    "leftover_minutes = time % 1440\n",
    "hours = leftover_minutes / 60\n",
    "\n",
    "print(str(days) + \" days, \" + str(hours) + \" hours, \" + str(mins) +  \" mins. \")"
   ]
  },
  {
   "cell_type": "markdown",
   "id": "ac59735e-c568-4ce9-8017-8d3a43fc5451",
   "metadata": {},
   "source": [
    "Objectives:\n",
    "\n",
    "* List popular languages that Data Scientists use.\n",
    "* List commonly used libraries used by Data Scientists.\n",
    "* Comment on Data Science tools."
   ]
  },
  {
   "cell_type": "markdown",
   "id": "040e8230-5157-4a7e-b166-ab38e1290af3",
   "metadata": {},
   "source": [
    "# Author\n",
    "\n",
    "Ayan Goel"
   ]
  },
  {
   "cell_type": "code",
   "execution_count": null,
   "id": "56e34783-c247-4dbd-a125-3fe6443f8e8a",
   "metadata": {},
   "outputs": [],
   "source": []
  }
 ],
 "metadata": {
  "kernelspec": {
   "display_name": "Python 3 (ipykernel)",
   "language": "python",
   "name": "python3"
  },
  "language_info": {
   "codemirror_mode": {
    "name": "ipython",
    "version": 3
   },
   "file_extension": ".py",
   "mimetype": "text/x-python",
   "name": "python",
   "nbconvert_exporter": "python",
   "pygments_lexer": "ipython3",
   "version": "3.11.8"
  }
 },
 "nbformat": 4,
 "nbformat_minor": 5
}
